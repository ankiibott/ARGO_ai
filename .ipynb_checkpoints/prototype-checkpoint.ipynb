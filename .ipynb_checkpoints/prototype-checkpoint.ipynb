{
 "cells": [
  {
   "cell_type": "code",
   "execution_count": null,
   "id": "cb2ec18a-5a85-48b4-9454-fbbc5ed4fe92",
   "metadata": {},
   "outputs": [],
   "source": [
    "import kagglehub\n",
    "\n",
    "# Download latest version\n",
    "path = kagglehub.model_download(\"google/bert/tensorFlow1/uncased-l-12-h-768-a-12\")\n",
    "\n",
    "print(\"Path to model files:\", path)"
   ]
  },
  {
   "cell_type": "code",
   "execution_count": 4,
   "id": "e38901fa-1aab-4f90-9838-a9d2d3de4800",
   "metadata": {},
   "outputs": [],
   "source": [
    "import xarray as xr\n",
    "ds = xr.open_dataset(r\"C:\\Users\\Ankit\\ARGO_datasets\\1902673_prof.nc\")"
   ]
  },
  {
   "cell_type": "code",
   "execution_count": 5,
   "id": "a7e47b81-87d8-40a5-88d9-8c892be3cdb4",
   "metadata": {
    "scrolled": true
   },
   "outputs": [
    {
     "data": {
      "text/plain": [
       "Data variables:\n",
       "    DATA_TYPE                     object 8B ...\n",
       "    FORMAT_VERSION                object 8B ...\n",
       "    HANDBOOK_VERSION              object 8B ...\n",
       "    REFERENCE_DATE_TIME           object 8B ...\n",
       "    DATE_CREATION                 object 8B ...\n",
       "    DATE_UPDATE                   object 8B ...\n",
       "    PLATFORM_NUMBER               (N_PROF) object 552B ...\n",
       "    PROJECT_NAME                  (N_PROF) object 552B ...\n",
       "    PI_NAME                       (N_PROF) object 552B ...\n",
       "    STATION_PARAMETERS            (N_PROF, N_PARAM) object 2kB ...\n",
       "    CYCLE_NUMBER                  (N_PROF) float64 552B ...\n",
       "    DIRECTION                     (N_PROF) object 552B ...\n",
       "    DATA_CENTRE                   (N_PROF) object 552B ...\n",
       "    DC_REFERENCE                  (N_PROF) object 552B ...\n",
       "    DATA_STATE_INDICATOR          (N_PROF) object 552B ...\n",
       "    DATA_MODE                     (N_PROF) object 552B ...\n",
       "    PLATFORM_TYPE                 (N_PROF) object 552B ...\n",
       "    FLOAT_SERIAL_NO               (N_PROF) object 552B ...\n",
       "    FIRMWARE_VERSION              (N_PROF) object 552B ...\n",
       "    WMO_INST_TYPE                 (N_PROF) object 552B ...\n",
       "    JULD                          (N_PROF) datetime64[ns] 552B ...\n",
       "    JULD_QC                       (N_PROF) object 552B ...\n",
       "    JULD_LOCATION                 (N_PROF) datetime64[ns] 552B ...\n",
       "    LATITUDE                      (N_PROF) float64 552B ...\n",
       "    LONGITUDE                     (N_PROF) float64 552B ...\n",
       "    POSITION_QC                   (N_PROF) object 552B ...\n",
       "    POSITIONING_SYSTEM            (N_PROF) object 552B ...\n",
       "    PROFILE_PRES_QC               (N_PROF) object 552B ...\n",
       "    PROFILE_TEMP_QC               (N_PROF) object 552B ...\n",
       "    PROFILE_PSAL_QC               (N_PROF) object 552B ...\n",
       "    VERTICAL_SAMPLING_SCHEME      (N_PROF) object 552B ...\n",
       "    CONFIG_MISSION_NUMBER         (N_PROF) float64 552B ...\n",
       "    PRES                          (N_PROF, N_LEVELS) float32 29kB ...\n",
       "    PRES_QC                       (N_PROF, N_LEVELS) object 57kB ...\n",
       "    PRES_ADJUSTED                 (N_PROF, N_LEVELS) float32 29kB ...\n",
       "    PRES_ADJUSTED_QC              (N_PROF, N_LEVELS) object 57kB ...\n",
       "    PRES_ADJUSTED_ERROR           (N_PROF, N_LEVELS) float32 29kB ...\n",
       "    TEMP                          (N_PROF, N_LEVELS) float32 29kB ...\n",
       "    TEMP_QC                       (N_PROF, N_LEVELS) object 57kB ...\n",
       "    TEMP_ADJUSTED                 (N_PROF, N_LEVELS) float32 29kB ...\n",
       "    TEMP_ADJUSTED_QC              (N_PROF, N_LEVELS) object 57kB ...\n",
       "    TEMP_ADJUSTED_ERROR           (N_PROF, N_LEVELS) float32 29kB ...\n",
       "    PSAL                          (N_PROF, N_LEVELS) float32 29kB ...\n",
       "    PSAL_QC                       (N_PROF, N_LEVELS) object 57kB ...\n",
       "    PSAL_ADJUSTED                 (N_PROF, N_LEVELS) float32 29kB ...\n",
       "    PSAL_ADJUSTED_QC              (N_PROF, N_LEVELS) object 57kB ...\n",
       "    PSAL_ADJUSTED_ERROR           (N_PROF, N_LEVELS) float32 29kB ...\n",
       "    PARAMETER                     (N_PROF, N_CALIB, N_PARAM) object 2kB ...\n",
       "    SCIENTIFIC_CALIB_EQUATION     (N_PROF, N_CALIB, N_PARAM) object 2kB ...\n",
       "    SCIENTIFIC_CALIB_COEFFICIENT  (N_PROF, N_CALIB, N_PARAM) object 2kB ...\n",
       "    SCIENTIFIC_CALIB_COMMENT      (N_PROF, N_CALIB, N_PARAM) object 2kB ...\n",
       "    SCIENTIFIC_CALIB_DATE         (N_PROF, N_CALIB, N_PARAM) object 2kB ...\n",
       "    HISTORY_INSTITUTION           (N_HISTORY, N_PROF) object 0B ...\n",
       "    HISTORY_STEP                  (N_HISTORY, N_PROF) object 0B ...\n",
       "    HISTORY_SOFTWARE              (N_HISTORY, N_PROF) object 0B ...\n",
       "    HISTORY_SOFTWARE_RELEASE      (N_HISTORY, N_PROF) object 0B ...\n",
       "    HISTORY_REFERENCE             (N_HISTORY, N_PROF) object 0B ...\n",
       "    HISTORY_DATE                  (N_HISTORY, N_PROF) object 0B ...\n",
       "    HISTORY_ACTION                (N_HISTORY, N_PROF) object 0B ...\n",
       "    HISTORY_PARAMETER             (N_HISTORY, N_PROF) object 0B ...\n",
       "    HISTORY_START_PRES            (N_HISTORY, N_PROF) float32 0B ...\n",
       "    HISTORY_STOP_PRES             (N_HISTORY, N_PROF) float32 0B ...\n",
       "    HISTORY_PREVIOUS_VALUE        (N_HISTORY, N_PROF) float32 0B ...\n",
       "    HISTORY_QCTEST                (N_HISTORY, N_PROF) object 0B ..."
      ]
     },
     "execution_count": 5,
     "metadata": {},
     "output_type": "execute_result"
    }
   ],
   "source": [
    "ds.data_vars"
   ]
  },
  {
   "cell_type": "code",
   "execution_count": 24,
   "id": "a9cfbc86-0f30-401b-9b2b-6499bf7f31a0",
   "metadata": {},
   "outputs": [],
   "source": [
    "vars_to_keep = [\n",
    "    \"JULD\",          \n",
    "    \"LATITUDE\",     \n",
    "    \"LONGITUDE\",     \n",
    "    \"PRES\",         \n",
    "    \"PRES_ADJUSTED\", \n",
    "    \"TEMP\",          \n",
    "    \"TEMP_ADJUSTED\", \n",
    "    \"PSAL\",          \n",
    "    \"PSAL_ADJUSTED\"  \n",
    "]"
   ]
  },
  {
   "cell_type": "code",
   "execution_count": 7,
   "id": "f0f73c9f-75ad-4dfc-aa95-400494d73404",
   "metadata": {},
   "outputs": [],
   "source": [
    "ds1 = ds[vars_to_keep]"
   ]
  },
  {
   "cell_type": "code",
   "execution_count": 8,
   "id": "0a233a14-7105-4f61-9812-7bf9ba8d4de3",
   "metadata": {},
   "outputs": [],
   "source": [
    "df = ds1.to_dataframe().reset_index()"
   ]
  },
  {
   "cell_type": "code",
   "execution_count": 9,
   "id": "ebc06142-1770-4e1f-985d-1a747f396bae",
   "metadata": {},
   "outputs": [],
   "source": [
    "df = df[[\"JULD\", \"LATITUDE\", \"LONGITUDE\", \n",
    "         \"PRES_ADJUSTED\", \"TEMP_ADJUSTED\", \"PSAL_ADJUSTED\"]]"
   ]
  },
  {
   "cell_type": "code",
   "execution_count": 10,
   "id": "f8c0d191-79ab-4cd4-a866-26b77da73876",
   "metadata": {},
   "outputs": [],
   "source": [
    "df = df.rename(columns={\n",
    "    \"JULD\": \"time\",\n",
    "    \"LATITUDE\": \"lat\",\n",
    "    \"LONGITUDE\": \"lon\",\n",
    "    \"PRES_ADJUSTED\": \"depth_dbar\",\n",
    "    \"TEMP_ADJUSTED\": \"temperature_C\",\n",
    "    \"PSAL_ADJUSTED\": \"salinity_PSU\"\n",
    "})"
   ]
  },
  {
   "cell_type": "code",
   "execution_count": 11,
   "id": "6b6bd831-6bb4-4034-9a93-4820848278c8",
   "metadata": {},
   "outputs": [],
   "source": [
    "df = df.dropna().reset_index(drop=True)"
   ]
  },
  {
   "cell_type": "code",
   "execution_count": 12,
   "id": "baed1834-d10c-42c6-8223-0fb29cad26fd",
   "metadata": {},
   "outputs": [],
   "source": [
    "df.to_csv(r\"C:\\Users\\Ankit\\ARGO_datasets\\argo_1902673_clean.csv\", index=False)"
   ]
  },
  {
   "cell_type": "code",
   "execution_count": 13,
   "id": "a00b4c01-b23a-44ad-b4f3-eff928018fcd",
   "metadata": {},
   "outputs": [
    {
     "data": {
      "text/html": [
       "<div>\n",
       "<style scoped>\n",
       "    .dataframe tbody tr th:only-of-type {\n",
       "        vertical-align: middle;\n",
       "    }\n",
       "\n",
       "    .dataframe tbody tr th {\n",
       "        vertical-align: top;\n",
       "    }\n",
       "\n",
       "    .dataframe thead th {\n",
       "        text-align: right;\n",
       "    }\n",
       "</style>\n",
       "<table border=\"1\" class=\"dataframe\">\n",
       "  <thead>\n",
       "    <tr style=\"text-align: right;\">\n",
       "      <th></th>\n",
       "      <th>time</th>\n",
       "      <th>lat</th>\n",
       "      <th>lon</th>\n",
       "      <th>depth_dbar</th>\n",
       "      <th>temperature_C</th>\n",
       "      <th>salinity_PSU</th>\n",
       "    </tr>\n",
       "  </thead>\n",
       "  <tbody>\n",
       "    <tr>\n",
       "      <th>0</th>\n",
       "      <td>2023-10-26 14:17:25</td>\n",
       "      <td>13.6</td>\n",
       "      <td>68.366667</td>\n",
       "      <td>0.1</td>\n",
       "      <td>29.847000</td>\n",
       "      <td>36.616001</td>\n",
       "    </tr>\n",
       "    <tr>\n",
       "      <th>1</th>\n",
       "      <td>2023-10-26 14:17:25</td>\n",
       "      <td>13.6</td>\n",
       "      <td>68.366667</td>\n",
       "      <td>0.8</td>\n",
       "      <td>29.847000</td>\n",
       "      <td>36.618000</td>\n",
       "    </tr>\n",
       "    <tr>\n",
       "      <th>2</th>\n",
       "      <td>2023-10-26 14:17:25</td>\n",
       "      <td>13.6</td>\n",
       "      <td>68.366667</td>\n",
       "      <td>2.0</td>\n",
       "      <td>29.853001</td>\n",
       "      <td>36.615002</td>\n",
       "    </tr>\n",
       "  </tbody>\n",
       "</table>\n",
       "</div>"
      ],
      "text/plain": [
       "                 time   lat        lon  depth_dbar  temperature_C  \\\n",
       "0 2023-10-26 14:17:25  13.6  68.366667         0.1      29.847000   \n",
       "1 2023-10-26 14:17:25  13.6  68.366667         0.8      29.847000   \n",
       "2 2023-10-26 14:17:25  13.6  68.366667         2.0      29.853001   \n",
       "\n",
       "   salinity_PSU  \n",
       "0     36.616001  \n",
       "1     36.618000  \n",
       "2     36.615002  "
      ]
     },
     "execution_count": 13,
     "metadata": {},
     "output_type": "execute_result"
    }
   ],
   "source": [
    "df.head(3)"
   ]
  },
  {
   "cell_type": "code",
   "execution_count": 16,
   "id": "3337a2c6-1545-4c7a-a907-3f3b5aa9f632",
   "metadata": {},
   "outputs": [
    {
     "name": "stderr",
     "output_type": "stream",
     "text": [
      "C:\\Users\\Ankit\\AppData\\Local\\Programs\\Python\\Python310\\lib\\site-packages\\tqdm\\auto.py:21: TqdmWarning: IProgress not found. Please update jupyter and ipywidgets. See https://ipywidgets.readthedocs.io/en/stable/user_install.html\n",
      "  from .autonotebook import tqdm as notebook_tqdm\n"
     ]
    },
    {
     "name": "stdout",
     "output_type": "stream",
     "text": [
      "WARNING:tensorflow:From C:\\Users\\Ankit\\AppData\\Local\\Programs\\Python\\Python310\\lib\\site-packages\\tf_keras\\src\\losses.py:2976: The name tf.losses.sparse_softmax_cross_entropy is deprecated. Please use tf.compat.v1.losses.sparse_softmax_cross_entropy instead.\n",
      "\n"
     ]
    }
   ],
   "source": [
    "import pandas as pd\n",
    "import sqlite3\n",
    "from sentence_transformers import SentenceTransformer\n",
    "import numpy as np"
   ]
  },
  {
   "cell_type": "code",
   "execution_count": 17,
   "id": "8b0fa47b-e124-47b5-a4dd-44811a5b4daa",
   "metadata": {},
   "outputs": [],
   "source": [
    "csv_file = r\"C:\\Users\\Ankit\\ARGO_datasets\\argo_1902673_clean.csv\"\n",
    "df = pd.read_csv(csv_file)"
   ]
  },
  {
   "cell_type": "code",
   "execution_count": 19,
   "id": "cb23615d-193e-443a-855b-07ce0dc275ee",
   "metadata": {},
   "outputs": [],
   "source": [
    "db_file = \"argo_data.db\"\n",
    "conn = sqlite3.connect(db_file)"
   ]
  },
  {
   "cell_type": "code",
   "execution_count": 20,
   "id": "f5c59e88-401f-40d5-9bf7-33864c1405ee",
   "metadata": {},
   "outputs": [
    {
     "data": {
      "text/plain": [
       "5817"
      ]
     },
     "execution_count": 20,
     "metadata": {},
     "output_type": "execute_result"
    }
   ],
   "source": [
    "table_name = \"argo_profiles\"\n",
    "df.to_sql(table_name, conn, if_exists=\"replace\", index=False)"
   ]
  },
  {
   "cell_type": "code",
   "execution_count": 22,
   "id": "07dd273b-b95d-4bc6-9421-a3978d9618b6",
   "metadata": {
    "scrolled": true
   },
   "outputs": [
    {
     "name": "stdout",
     "output_type": "stream",
     "text": [
      "                  time   lat        lon  depth_dbar  temperature_C  \\\n",
      "0  2023-10-26 14:17:25  13.6  68.366667         0.1         29.847   \n",
      "1  2023-10-26 14:17:25  13.6  68.366667         0.8         29.847   \n",
      "2  2023-10-26 14:17:25  13.6  68.366667         2.0         29.853   \n",
      "3  2023-10-26 14:17:25  13.6  68.366667         2.8         29.855   \n",
      "4  2023-10-26 14:17:25  13.6  68.366667         3.7         29.854   \n",
      "\n",
      "   salinity_PSU  \n",
      "0        36.616  \n",
      "1        36.618  \n",
      "2        36.615  \n",
      "3        36.614  \n",
      "4        36.616  \n"
     ]
    }
   ],
   "source": [
    "query = f\"\"\"\n",
    "SELECT time, lat, lon, depth_dbar, temperature_C, salinity_PSU\n",
    "FROM {table_name}\n",
    "WHERE depth_dbar < 200\n",
    "LIMIT 5;\n",
    "\"\"\"\n",
    "sample = pd.read_sql(query, conn)\n",
    "print(sample)"
   ]
  },
  {
   "cell_type": "code",
   "execution_count": 23,
   "id": "77d2a115-2bd0-4909-9269-1f75dbbaebbc",
   "metadata": {},
   "outputs": [],
   "source": [
    "def build_embeddings(df, text_cols=[\"time\", \"lat\", \"lon\"]):\n",
    "    model = SentenceTransformer(\"all-MiniLM-L6-v2\")\n",
    "    texts = df[text_cols].astype(str).agg(\" \".join, axis=1).tolist()\n",
    "    embeddings = model.encode(texts, convert_to_numpy=True)\n",
    "    return embeddings"
   ]
  },
  {
   "cell_type": "code",
   "execution_count": null,
   "id": "f4f3b384-1ba7-46ca-8a48-7c7c86d01394",
   "metadata": {},
   "outputs": [],
   "source": []
  }
 ],
 "metadata": {
  "kernelspec": {
   "display_name": "Python 3 (ipykernel)",
   "language": "python",
   "name": "python3"
  },
  "language_info": {
   "codemirror_mode": {
    "name": "ipython",
    "version": 3
   },
   "file_extension": ".py",
   "mimetype": "text/x-python",
   "name": "python",
   "nbconvert_exporter": "python",
   "pygments_lexer": "ipython3",
   "version": "3.10.0"
  }
 },
 "nbformat": 4,
 "nbformat_minor": 5
}
