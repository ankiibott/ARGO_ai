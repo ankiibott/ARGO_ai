{
 "cells": [
  {
   "cell_type": "code",
   "execution_count": 4,
   "id": "e38901fa-1aab-4f90-9838-a9d2d3de4800",
   "metadata": {},
   "outputs": [],
   "source": [
    "import xarray as xr\n",
    "ds = xr.open_dataset(r\"C:\\Users\\Ankit\\ARGO_prototype\\ARGO_datasets\\1902673_prof.nc\")"
   ]
  },
  {
   "cell_type": "code",
   "execution_count": 5,
   "id": "a7e47b81-87d8-40a5-88d9-8c892be3cdb4",
   "metadata": {
    "scrolled": true
   },
   "outputs": [
    {
     "data": {
      "text/plain": [
       "Data variables:\n",
       "    DATA_TYPE                     object 8B ...\n",
       "    FORMAT_VERSION                object 8B ...\n",
       "    HANDBOOK_VERSION              object 8B ...\n",
       "    REFERENCE_DATE_TIME           object 8B ...\n",
       "    DATE_CREATION                 object 8B ...\n",
       "    DATE_UPDATE                   object 8B ...\n",
       "    PLATFORM_NUMBER               (N_PROF) object 552B ...\n",
       "    PROJECT_NAME                  (N_PROF) object 552B ...\n",
       "    PI_NAME                       (N_PROF) object 552B ...\n",
       "    STATION_PARAMETERS            (N_PROF, N_PARAM) object 2kB ...\n",
       "    CYCLE_NUMBER                  (N_PROF) float64 552B ...\n",
       "    DIRECTION                     (N_PROF) object 552B ...\n",
       "    DATA_CENTRE                   (N_PROF) object 552B ...\n",
       "    DC_REFERENCE                  (N_PROF) object 552B ...\n",
       "    DATA_STATE_INDICATOR          (N_PROF) object 552B ...\n",
       "    DATA_MODE                     (N_PROF) object 552B ...\n",
       "    PLATFORM_TYPE                 (N_PROF) object 552B ...\n",
       "    FLOAT_SERIAL_NO               (N_PROF) object 552B ...\n",
       "    FIRMWARE_VERSION              (N_PROF) object 552B ...\n",
       "    WMO_INST_TYPE                 (N_PROF) object 552B ...\n",
       "    JULD                          (N_PROF) datetime64[ns] 552B ...\n",
       "    JULD_QC                       (N_PROF) object 552B ...\n",
       "    JULD_LOCATION                 (N_PROF) datetime64[ns] 552B ...\n",
       "    LATITUDE                      (N_PROF) float64 552B ...\n",
       "    LONGITUDE                     (N_PROF) float64 552B ...\n",
       "    POSITION_QC                   (N_PROF) object 552B ...\n",
       "    POSITIONING_SYSTEM            (N_PROF) object 552B ...\n",
       "    PROFILE_PRES_QC               (N_PROF) object 552B ...\n",
       "    PROFILE_TEMP_QC               (N_PROF) object 552B ...\n",
       "    PROFILE_PSAL_QC               (N_PROF) object 552B ...\n",
       "    VERTICAL_SAMPLING_SCHEME      (N_PROF) object 552B ...\n",
       "    CONFIG_MISSION_NUMBER         (N_PROF) float64 552B ...\n",
       "    PRES                          (N_PROF, N_LEVELS) float32 29kB ...\n",
       "    PRES_QC                       (N_PROF, N_LEVELS) object 57kB ...\n",
       "    PRES_ADJUSTED                 (N_PROF, N_LEVELS) float32 29kB ...\n",
       "    PRES_ADJUSTED_QC              (N_PROF, N_LEVELS) object 57kB ...\n",
       "    PRES_ADJUSTED_ERROR           (N_PROF, N_LEVELS) float32 29kB ...\n",
       "    TEMP                          (N_PROF, N_LEVELS) float32 29kB ...\n",
       "    TEMP_QC                       (N_PROF, N_LEVELS) object 57kB ...\n",
       "    TEMP_ADJUSTED                 (N_PROF, N_LEVELS) float32 29kB ...\n",
       "    TEMP_ADJUSTED_QC              (N_PROF, N_LEVELS) object 57kB ...\n",
       "    TEMP_ADJUSTED_ERROR           (N_PROF, N_LEVELS) float32 29kB ...\n",
       "    PSAL                          (N_PROF, N_LEVELS) float32 29kB ...\n",
       "    PSAL_QC                       (N_PROF, N_LEVELS) object 57kB ...\n",
       "    PSAL_ADJUSTED                 (N_PROF, N_LEVELS) float32 29kB ...\n",
       "    PSAL_ADJUSTED_QC              (N_PROF, N_LEVELS) object 57kB ...\n",
       "    PSAL_ADJUSTED_ERROR           (N_PROF, N_LEVELS) float32 29kB ...\n",
       "    PARAMETER                     (N_PROF, N_CALIB, N_PARAM) object 2kB ...\n",
       "    SCIENTIFIC_CALIB_EQUATION     (N_PROF, N_CALIB, N_PARAM) object 2kB ...\n",
       "    SCIENTIFIC_CALIB_COEFFICIENT  (N_PROF, N_CALIB, N_PARAM) object 2kB ...\n",
       "    SCIENTIFIC_CALIB_COMMENT      (N_PROF, N_CALIB, N_PARAM) object 2kB ...\n",
       "    SCIENTIFIC_CALIB_DATE         (N_PROF, N_CALIB, N_PARAM) object 2kB ...\n",
       "    HISTORY_INSTITUTION           (N_HISTORY, N_PROF) object 0B ...\n",
       "    HISTORY_STEP                  (N_HISTORY, N_PROF) object 0B ...\n",
       "    HISTORY_SOFTWARE              (N_HISTORY, N_PROF) object 0B ...\n",
       "    HISTORY_SOFTWARE_RELEASE      (N_HISTORY, N_PROF) object 0B ...\n",
       "    HISTORY_REFERENCE             (N_HISTORY, N_PROF) object 0B ...\n",
       "    HISTORY_DATE                  (N_HISTORY, N_PROF) object 0B ...\n",
       "    HISTORY_ACTION                (N_HISTORY, N_PROF) object 0B ...\n",
       "    HISTORY_PARAMETER             (N_HISTORY, N_PROF) object 0B ...\n",
       "    HISTORY_START_PRES            (N_HISTORY, N_PROF) float32 0B ...\n",
       "    HISTORY_STOP_PRES             (N_HISTORY, N_PROF) float32 0B ...\n",
       "    HISTORY_PREVIOUS_VALUE        (N_HISTORY, N_PROF) float32 0B ...\n",
       "    HISTORY_QCTEST                (N_HISTORY, N_PROF) object 0B ..."
      ]
     },
     "execution_count": 5,
     "metadata": {},
     "output_type": "execute_result"
    }
   ],
   "source": [
    "ds.data_vars"
   ]
  },
  {
   "cell_type": "code",
   "execution_count": 6,
   "id": "a9cfbc86-0f30-401b-9b2b-6499bf7f31a0",
   "metadata": {},
   "outputs": [],
   "source": [
    "vars_to_keep = [\n",
    "    \"JULD\",          \n",
    "    \"LATITUDE\",     \n",
    "    \"LONGITUDE\",     \n",
    "    \"PRES\",         \n",
    "    \"PRES_ADJUSTED\", \n",
    "    \"TEMP\",          \n",
    "    \"TEMP_ADJUSTED\", \n",
    "    \"PSAL\",          \n",
    "    \"PSAL_ADJUSTED\"  \n",
    "]"
   ]
  },
  {
   "cell_type": "code",
   "execution_count": 7,
   "id": "f0f73c9f-75ad-4dfc-aa95-400494d73404",
   "metadata": {},
   "outputs": [],
   "source": [
    "ds1 = ds[vars_to_keep]"
   ]
  },
  {
   "cell_type": "code",
   "execution_count": 8,
   "id": "0a233a14-7105-4f61-9812-7bf9ba8d4de3",
   "metadata": {},
   "outputs": [],
   "source": [
    "df = ds1.to_dataframe().reset_index()"
   ]
  },
  {
   "cell_type": "code",
   "execution_count": 9,
   "id": "ebc06142-1770-4e1f-985d-1a747f396bae",
   "metadata": {},
   "outputs": [],
   "source": [
    "df = df[[\"JULD\", \"LATITUDE\", \"LONGITUDE\", \n",
    "         \"PRES_ADJUSTED\", \"TEMP_ADJUSTED\", \"PSAL_ADJUSTED\"]]"
   ]
  },
  {
   "cell_type": "code",
   "execution_count": 10,
   "id": "f8c0d191-79ab-4cd4-a866-26b77da73876",
   "metadata": {},
   "outputs": [],
   "source": [
    "df = df.rename(columns={\n",
    "    \"JULD\": \"time\",\n",
    "    \"LATITUDE\": \"lat\",\n",
    "    \"LONGITUDE\": \"lon\",\n",
    "    \"PRES_ADJUSTED\": \"depth_dbar\",\n",
    "    \"TEMP_ADJUSTED\": \"temperature_C\",\n",
    "    \"PSAL_ADJUSTED\": \"salinity_PSU\"\n",
    "})"
   ]
  },
  {
   "cell_type": "code",
   "execution_count": 11,
   "id": "6b6bd831-6bb4-4034-9a93-4820848278c8",
   "metadata": {},
   "outputs": [],
   "source": [
    "df = df.dropna().reset_index(drop=True)"
   ]
  },
  {
   "cell_type": "code",
   "execution_count": 14,
   "id": "baed1834-d10c-42c6-8223-0fb29cad26fd",
   "metadata": {},
   "outputs": [],
   "source": [
    "df.to_csv(r\"C:\\Users\\Ankit\\ARGO_prototype\\ARGO_datasets\\argo_1902673_clean1.csv\", index=False)"
   ]
  },
  {
   "cell_type": "code",
   "execution_count": 15,
   "id": "a00b4c01-b23a-44ad-b4f3-eff928018fcd",
   "metadata": {},
   "outputs": [
    {
     "data": {
      "text/html": [
       "<div>\n",
       "<style scoped>\n",
       "    .dataframe tbody tr th:only-of-type {\n",
       "        vertical-align: middle;\n",
       "    }\n",
       "\n",
       "    .dataframe tbody tr th {\n",
       "        vertical-align: top;\n",
       "    }\n",
       "\n",
       "    .dataframe thead th {\n",
       "        text-align: right;\n",
       "    }\n",
       "</style>\n",
       "<table border=\"1\" class=\"dataframe\">\n",
       "  <thead>\n",
       "    <tr style=\"text-align: right;\">\n",
       "      <th></th>\n",
       "      <th>time</th>\n",
       "      <th>lat</th>\n",
       "      <th>lon</th>\n",
       "      <th>depth_dbar</th>\n",
       "      <th>temperature_C</th>\n",
       "      <th>salinity_PSU</th>\n",
       "    </tr>\n",
       "  </thead>\n",
       "  <tbody>\n",
       "    <tr>\n",
       "      <th>0</th>\n",
       "      <td>2023-10-26 14:17:25</td>\n",
       "      <td>13.6</td>\n",
       "      <td>68.366667</td>\n",
       "      <td>0.1</td>\n",
       "      <td>29.847000</td>\n",
       "      <td>36.616001</td>\n",
       "    </tr>\n",
       "    <tr>\n",
       "      <th>1</th>\n",
       "      <td>2023-10-26 14:17:25</td>\n",
       "      <td>13.6</td>\n",
       "      <td>68.366667</td>\n",
       "      <td>0.8</td>\n",
       "      <td>29.847000</td>\n",
       "      <td>36.618000</td>\n",
       "    </tr>\n",
       "    <tr>\n",
       "      <th>2</th>\n",
       "      <td>2023-10-26 14:17:25</td>\n",
       "      <td>13.6</td>\n",
       "      <td>68.366667</td>\n",
       "      <td>2.0</td>\n",
       "      <td>29.853001</td>\n",
       "      <td>36.615002</td>\n",
       "    </tr>\n",
       "  </tbody>\n",
       "</table>\n",
       "</div>"
      ],
      "text/plain": [
       "                 time   lat        lon  depth_dbar  temperature_C  \\\n",
       "0 2023-10-26 14:17:25  13.6  68.366667         0.1      29.847000   \n",
       "1 2023-10-26 14:17:25  13.6  68.366667         0.8      29.847000   \n",
       "2 2023-10-26 14:17:25  13.6  68.366667         2.0      29.853001   \n",
       "\n",
       "   salinity_PSU  \n",
       "0     36.616001  \n",
       "1     36.618000  \n",
       "2     36.615002  "
      ]
     },
     "execution_count": 15,
     "metadata": {},
     "output_type": "execute_result"
    }
   ],
   "source": [
    "df.head(3)"
   ]
  },
  {
   "cell_type": "code",
   "execution_count": 16,
   "id": "3337a2c6-1545-4c7a-a907-3f3b5aa9f632",
   "metadata": {},
   "outputs": [
    {
     "name": "stdout",
     "output_type": "stream",
     "text": [
      "WARNING:tensorflow:From C:\\Users\\Ankit\\AppData\\Local\\Programs\\Python\\Python310\\lib\\site-packages\\tf_keras\\src\\losses.py:2976: The name tf.losses.sparse_softmax_cross_entropy is deprecated. Please use tf.compat.v1.losses.sparse_softmax_cross_entropy instead.\n",
      "\n"
     ]
    }
   ],
   "source": [
    "import pandas as pd\n",
    "import sqlite3\n",
    "from sentence_transformers import SentenceTransformer\n",
    "import numpy as np"
   ]
  },
  {
   "cell_type": "code",
   "execution_count": 17,
   "id": "8b0fa47b-e124-47b5-a4dd-44811a5b4daa",
   "metadata": {},
   "outputs": [],
   "source": [
    "csv_file = r\"C:\\Users\\Ankit\\ARGO_prototype\\ARGO_datasets\\argo_1902673_clean1.csv\"\n",
    "df = pd.read_csv(csv_file)"
   ]
  },
  {
   "cell_type": "code",
   "execution_count": 18,
   "id": "cb23615d-193e-443a-855b-07ce0dc275ee",
   "metadata": {},
   "outputs": [],
   "source": [
    "db_file = \"argo_data.db\"\n",
    "conn = sqlite3.connect(db_file)"
   ]
  },
  {
   "cell_type": "code",
   "execution_count": 19,
   "id": "f5c59e88-401f-40d5-9bf7-33864c1405ee",
   "metadata": {},
   "outputs": [
    {
     "data": {
      "text/plain": [
       "5817"
      ]
     },
     "execution_count": 19,
     "metadata": {},
     "output_type": "execute_result"
    }
   ],
   "source": [
    "table_name = \"argo_profiles\"\n",
    "df.to_sql(table_name, conn, if_exists=\"replace\", index=False)"
   ]
  },
  {
   "cell_type": "code",
   "execution_count": 20,
   "id": "07dd273b-b95d-4bc6-9421-a3978d9618b6",
   "metadata": {
    "scrolled": true
   },
   "outputs": [
    {
     "name": "stdout",
     "output_type": "stream",
     "text": [
      "                  time   lat        lon  depth_dbar  temperature_C  \\\n",
      "0  2023-10-26 14:17:25  13.6  68.366667         0.1         29.847   \n",
      "1  2023-10-26 14:17:25  13.6  68.366667         0.8         29.847   \n",
      "2  2023-10-26 14:17:25  13.6  68.366667         2.0         29.853   \n",
      "3  2023-10-26 14:17:25  13.6  68.366667         2.8         29.855   \n",
      "4  2023-10-26 14:17:25  13.6  68.366667         3.7         29.854   \n",
      "\n",
      "   salinity_PSU  \n",
      "0        36.616  \n",
      "1        36.618  \n",
      "2        36.615  \n",
      "3        36.614  \n",
      "4        36.616  \n"
     ]
    }
   ],
   "source": [
    "query = f\"\"\"\n",
    "SELECT time, lat, lon, depth_dbar, temperature_C, salinity_PSU\n",
    "FROM {table_name}\n",
    "WHERE depth_dbar < 200\n",
    "LIMIT 5;\n",
    "\"\"\"\n",
    "sample = pd.read_sql(query, conn)\n",
    "print(sample)"
   ]
  },
  {
   "cell_type": "code",
   "execution_count": 21,
   "id": "77d2a115-2bd0-4909-9269-1f75dbbaebbc",
   "metadata": {},
   "outputs": [],
   "source": [
    "def build_embeddings(df, text_cols=[\"time\", \"lat\", \"lon\"]):\n",
    "    model = SentenceTransformer(\"all-MiniLM-L6-v2\")\n",
    "    texts = df[text_cols].astype(str).agg(\" \".join, axis=1).tolist()\n",
    "    embeddings = model.encode(texts, convert_to_numpy=True)\n",
    "    return embeddings"
   ]
  },
  {
   "cell_type": "code",
   "execution_count": 22,
   "id": "0212ad60-3455-4cf4-8713-49142d83e325",
   "metadata": {},
   "outputs": [],
   "source": [
    "import re\n",
    "from transformers import pipeline\n",
    "import tensorflow_hub as hub"
   ]
  },
  {
   "cell_type": "code",
   "execution_count": 23,
   "id": "9fbe9f80-7036-4e15-98af-6bf49113f01b",
   "metadata": {},
   "outputs": [
    {
     "name": "stdout",
     "output_type": "stream",
     "text": [
      "WARNING:tensorflow:From C:\\Users\\Ankit\\AppData\\Local\\Programs\\Python\\Python310\\lib\\site-packages\\tensorflow_hub\\resolver.py:120: The name tf.gfile.MakeDirs is deprecated. Please use tf.io.gfile.makedirs instead.\n",
      "\n"
     ]
    },
    {
     "name": "stderr",
     "output_type": "stream",
     "text": [
      "WARNING:tensorflow:From C:\\Users\\Ankit\\AppData\\Local\\Programs\\Python\\Python310\\lib\\site-packages\\tensorflow_hub\\resolver.py:120: The name tf.gfile.MakeDirs is deprecated. Please use tf.io.gfile.makedirs instead.\n",
      "\n"
     ]
    },
    {
     "name": "stdout",
     "output_type": "stream",
     "text": [
      "WARNING:tensorflow:From C:\\Users\\Ankit\\AppData\\Local\\Programs\\Python\\Python310\\lib\\site-packages\\tensorflow_hub\\module_v2.py:126: The name tf.saved_model.load_v2 is deprecated. Please use tf.compat.v2.saved_model.load instead.\n",
      "\n"
     ]
    },
    {
     "name": "stderr",
     "output_type": "stream",
     "text": [
      "WARNING:tensorflow:From C:\\Users\\Ankit\\AppData\\Local\\Programs\\Python\\Python310\\lib\\site-packages\\tensorflow_hub\\module_v2.py:126: The name tf.saved_model.load_v2 is deprecated. Please use tf.compat.v2.saved_model.load instead.\n",
      "\n"
     ]
    }
   ],
   "source": [
    "nlp = hub.load(\"https://tfhub.dev/google/universal-sentence-encoder/4\")"
   ]
  },
  {
   "cell_type": "code",
   "execution_count": 24,
   "id": "7eeb5711-b2c2-4774-b998-a3fb0133e285",
   "metadata": {},
   "outputs": [],
   "source": [
    "def classify_intent(query: str) -> str:\n",
    "    query_lower = query.lower()\n",
    "    if \"compare\" in query_lower:\n",
    "        return \"compare_parameters\"\n",
    "    elif \"nearest\" in query_lower or \"closest\" in query_lower:\n",
    "        return \"find_nearest_floats\"\n",
    "    else:\n",
    "        return \"fetch_profile\""
   ]
  },
  {
   "cell_type": "code",
   "execution_count": 25,
   "id": "f02c7c28-0f4b-4ff3-84b1-46f521aca0b7",
   "metadata": {},
   "outputs": [],
   "source": [
    "def extract_entities(query: str) -> dict:\n",
    "    embedding = nlp([query])\n",
    "\n",
    "    entities = {\"variable\": None, \"time\": None, \"lat_range\": None, \"lon_range\": None, \"depth_range\": None}\n",
    "\n",
    "    q = query.lower()\n",
    "    if \"salinity\" in q:\n",
    "        entities[\"variable\"] = \"salinity_PSU\"\n",
    "    elif \"temperature\" in q or \"temp\" in q:\n",
    "        entities[\"variable\"] = \"temperature_C\"\n",
    "\n",
    "    time_match = re.findall(r\"(20\\d{2})(?:[-/ ]?(0[1-9]|1[0-2]))?\", q)\n",
    "    if time_match:\n",
    "        year, month = time_match[0]\n",
    "        if month:\n",
    "            entities[\"time\"] = f\"{year}-{month}\"\n",
    "        else:\n",
    "            entities[\"time\"] = year\n",
    "\n",
    "    if \"equator\" in q:\n",
    "        entities[\"lat_range\"] = (-5, 5)\n",
    "    if \"indian ocean\" in q:\n",
    "        entities[\"lon_range\"] = (20, 120)\n",
    "        entities[\"lat_range\"] = (-40, 25)\n",
    "\n",
    "    depth_match = re.findall(r\"(\\d+)\\s*(?:m|meter|dbar)\", q)\n",
    "    if depth_match:\n",
    "        depth = int(depth_match[0])\n",
    "        entities[\"depth_range\"] = (depth - 5, depth + 5) \n",
    "\n",
    "    return entities, embedding"
   ]
  },
  {
   "cell_type": "code",
   "execution_count": 26,
   "id": "3e5e86a3-4d7e-444a-ada8-dc6f4f27dd06",
   "metadata": {},
   "outputs": [],
   "source": [
    "def parse_query(query: str):\n",
    "    intent = classify_intent(query)\n",
    "    entities, embedding = extract_entities(query)  # unpack both\n",
    "    return {\"intent\": intent, \"entities\": entities, \"embedding\": embedding.numpy().tolist()}"
   ]
  },
  {
   "cell_type": "code",
   "execution_count": 27,
   "id": "e2146551-a036-43b0-9492-738f03fadfa4",
   "metadata": {
    "scrolled": true
   },
   "outputs": [
    {
     "name": "stdout",
     "output_type": "stream",
     "text": [
      "User Query: Show me salinity profiles near the equator in March 2023\n",
      "Parsed: {'intent': 'fetch_profile', 'entities': {'variable': 'salinity_PSU', 'time': '2023', 'lat_range': (-5, 5), 'lon_range': None, 'depth_range': None}, 'embedding': [[-0.02270379103720188, 0.0007957153720781207, -0.03364606946706772, 0.03108806163072586, 0.06267266720533371, -0.039996229112148285, -0.029263151809573174, 0.027397148311138153, 0.014960931614041328, 0.04412486031651497, -0.031215140596032143, -0.07838419824838638, -0.045297831296920776, 0.02091735228896141, 0.00471334857866168, -0.05087479203939438, -0.014090467244386673, 0.04242359474301338, 0.06769967824220657, 0.015359747223556042, -0.051088713109493256, 0.04822639375925064, 0.06875637173652649, 0.012384336441755295, 0.08588636666536331, -0.06049209460616112, -0.007108860183507204, 0.04837056249380112, -0.057659320533275604, 0.06590092182159424, -0.06062731891870499, 0.01908811926841736, 0.04085057973861694, -0.01757074147462845, -0.010207091458141804, -0.04382942244410515, -0.07834310829639435, 0.04643275588750839, 0.01892632059752941, -0.011238972656428814, -0.03945193439722061, 0.01951844058930874, -0.04655500501394272, 0.04371430352330208, -0.04360206425189972, -0.020736131817102432, -0.04147465154528618, -0.04575887694954872, 0.04875676706433296, 0.0325489416718483, -0.03119916096329689, -0.03263869509100914, -0.04825567826628685, -0.03795851394534111, -0.013376626186072826, -0.067711740732193, 0.0040536122396588326, 0.03321017324924469, -0.05266598239541054, -0.012965277768671513, -0.059129368513822556, -0.05534832552075386, 0.07048690319061279, -0.04112588241696358, -0.08481248468160629, -0.07258576154708862, -0.03163573145866394, 0.06493435800075531, 0.05398942530155182, -0.02695491909980774, 0.015158282592892647, -0.05772724375128746, 0.02525646984577179, 0.01521941926330328, 0.04433314502239227, 0.07937812805175781, 0.040474530309438705, 0.07669547945261002, 0.0360371395945549, -0.010422446765005589, 0.0898924469947815, 0.0751146525144577, 0.04580419510602951, -0.027084482833743095, -0.007248620502650738, -0.0018525817431509495, 0.02598184533417225, -0.030943451449275017, -0.024463525041937828, 0.01336217112839222, -0.01822613924741745, 0.07156763970851898, 0.0720209926366806, 0.020160118117928505, -0.06730751693248749, 0.020784251391887665, 0.07292070239782333, 0.03638320043683052, 0.014205463230609894, 0.06552959978580475, 0.03979555889964104, 0.023933377116918564, -0.08208497613668442, 0.009459956549108028, -0.031254131346940994, 0.06738732755184174, 0.035495758056640625, -0.054220691323280334, 0.008349322713911533, -0.025872472673654556, -0.031307775527238846, -0.056571949273347855, -0.0413956381380558, -0.009212999604642391, 0.042795710265636444, 0.03562524914741516, -0.01850697584450245, -0.0222871582955122, 0.0006301781977526844, -0.028507038950920105, 0.09337712079286575, -0.06861397624015808, -0.04760820418596268, -0.0379461832344532, 0.024599943310022354, -0.03281136974692345, 0.08985620737075806, 0.027430126443505287, 0.04928331822156906, 0.004932483658194542, 0.052934132516384125, 0.08553122729063034, -0.058110177516937256, -0.0034716855734586716, -0.05849494785070419, -0.03658081591129303, -0.004323894623667002, 0.05832881107926369, 0.02732657641172409, -0.04756857454776764, -0.08443194627761841, 0.02638954296708107, -0.019328003749251366, -0.011379888281226158, 0.06375777721405029, 0.08857350051403046, -0.06113823130726814, -0.053947895765304565, 0.04523688182234764, 0.029923247173428535, -0.03223596140742302, 0.06218965724110603, 0.013975118286907673, -0.024948948994278908, 0.0029007212724536657, 0.019188053905963898, -0.0381506010890007, -0.028734993189573288, -0.012551115825772285, -0.06952732056379318, -0.07011967152357101, -0.04458865150809288, 0.05201905220746994, -0.04775915667414665, -0.04829750955104828, -0.03509191796183586, 0.05898881331086159, -0.03038288652896881, -0.01254203263670206, 0.023279691115021706, 0.035544898360967636, 0.016343984752893448, 0.020930398255586624, -0.05972340330481529, -0.05570119246840477, -0.002773691900074482, 0.06857570260763168, 0.03792950138449669, -0.002542586298659444, 0.059516530483961105, 0.0074891638942062855, 0.03477867320179939, 0.06199045479297638, -0.03895474225282669, -0.005319125019013882, -0.03909939154982567, 0.019268428906798363, -0.06041261926293373, -0.01893114298582077, 0.02933478355407715, 0.0071602133102715015, -0.04098869487643242, 0.0005520497797988355, 0.03527079150080681, -0.022424135357141495, -0.02935144677758217, -0.01820661686360836, -0.025046302005648613, -0.010707259178161621, -0.05611010640859604, -0.02678363211452961, 0.011480034328997135, -0.0031569700222462416, 0.07392363250255585, 0.04356992989778519, -0.062359679490327835, -0.019424522295594215, -0.011114133521914482, 0.03945053368806839, -0.08195044100284576, 0.03977236524224281, -0.004380989819765091, -0.05103981867432594, -0.020578555762767792, -0.02111137844622135, -0.024065285921096802, -0.007047169376164675, 0.04016664996743202, -0.05326413735747337, -0.02071598917245865, 0.011500819586217403, -0.023005230352282524, -0.012877261266112328, -0.0010724837193265557, -0.017565986141562462, 0.04472203180193901, -0.06586981564760208, -0.004660989623516798, -0.0347716249525547, 0.05966366082429886, -0.0009368276805616915, 0.041634123772382736, -0.0176555085927248, -0.02858206070959568, 0.005259192548692226, 0.0685897246003151, -0.03280461207032204, 0.05423150211572647, -0.03598376363515854, -0.001999886240810156, 0.04540465772151947, 0.038195256143808365, 0.0023253036197274923, 0.055633220821619034, 0.062207017093896866, 0.05164831876754761, -0.05835115537047386, 0.05062597990036011, 0.06546983122825623, -0.00025663478299975395, 0.02875478006899357, 0.008069146424531937, -0.06912369281053543, -0.06974202394485474, -0.07328184694051743, 0.058352336287498474, -0.04718645662069321, -0.011869898065924644, -0.041654326021671295, -0.011201811954379082, -0.014912417158484459, -0.031101321801543236, -0.0012245905818417668, 0.02812686376273632, 0.026872146874666214, 0.052363935858011246, 0.0669441819190979, 0.03838462382555008, -0.007416223641484976, 0.030679387971758842, -0.03074895776808262, 0.008036063984036446, 0.01787184365093708, 0.0671684592962265, 0.04084444046020508, -0.031063709408044815, -0.02492344379425049, -0.06969030946493149, 0.008408605121076107, -0.03782106563448906, -0.06698381155729294, -0.018210629001259804, -0.04697354882955551, 0.05316780135035515, -0.039146874099969864, -0.0529010146856308, -0.06328101456165314, 0.06744317710399628, -0.0666201114654541, -0.014913497492671013, -0.05403092876076698, -0.06183278560638428, 0.015586622059345245, 0.004164571408182383, -0.0026894663460552692, -0.0005608273204416037, -0.04530710354447365, 0.03422383964061737, -0.050251834094524384, 0.046688664704561234, -0.03190035745501518, -0.052057117223739624, 0.03947625681757927, -0.025903385132551193, -0.04649777337908745, -0.0339609831571579, -0.059493836015462875, -0.07073052227497101, -0.04038077965378761, -0.038546741008758545, 0.06454534828662872, 0.06774312257766724, 0.04850657656788826, 0.034852541983127594, 0.012506288476288319, -0.07451478391885757, 0.034240830689668655, -0.06820482015609741, -0.035947203636169434, 0.04876601696014404, 0.03806821629405022, -0.007272142916917801, 0.07335389405488968, -0.07016102969646454, -0.04327906668186188, -0.03206087648868561, -0.05738421902060509, -0.07348314672708511, -0.09555485099554062, 0.025407569482922554, -0.040350623428821564, -0.07611045241355896, 0.07557696849107742, 0.018613576889038086, -0.047186121344566345, 0.04105547443032265, 0.06317806988954544, 0.03618438169360161, 0.024425186216831207, 0.04059538245201111, 0.03511868789792061, -0.05009486526250839, 0.005375681445002556, -0.019350439310073853, -0.01823095791041851, -0.017024589702486992, 0.019137125462293625, -0.04058763384819031, -0.059884149581193924, 0.008483135141432285, 0.06958446651697159, 0.03228900954127312, -0.0020650841761380434, -0.06983570754528046, 0.08597376197576523, -0.03174533322453499, -0.08255179226398468, 0.012251163832843304, 0.05382140353322029, -0.06615658849477768, -0.02851063385605812, -0.03855442255735397, 0.005093164276331663, 0.03935160115361214, 0.012501503340899944, 0.03481772914528847, -0.036909978836774826, 0.01553096529096365, -0.028156010434031487, 0.047849468886852264, -0.055684253573417664, 0.0875844731926918, 0.01024942472577095, -0.033124495297670364, 0.04370605945587158, -0.04203639551997185, -0.02901916764676571, 0.0304239671677351, -0.005979364272207022, 0.04989401251077652, 0.07835711538791656, -0.06392920762300491, -0.011141713708639145, -0.06513141840696335, -0.009100129827857018, -0.0006699720397591591, 0.014872012659907341, 0.06125598028302193, 0.024332933127880096, 0.09138885140419006, -0.03694567829370499, 0.02857736311852932, 0.056194424629211426, -0.0211141649633646, -0.0727660059928894, 0.05853212997317314, -0.0478096604347229, -0.00729617103934288, 0.04162220284342766, 0.052226193249225616, -0.05242016166448593, -0.03364797681570053, 0.031702835112810135, -0.03903135284781456, 0.03776074945926666, -0.010713968425989151, -0.05560056120157242, 0.04024042561650276, 0.021633649244904518, 0.021031875163316727, -0.05645076185464859, 0.08286411315202713, 0.06681111454963684, -0.06855452060699463, 0.03650704026222229, -0.02100016176700592, 0.05093112215399742, -0.06659824401140213, -0.007633358705788851, 0.048071783035993576, 0.03625999763607979, 0.020937470719218254, 0.037113435566425323, -0.024876566603779793, -0.025482669472694397, -0.00490456260740757, -0.03509186580777168, -0.0008985104504972696, -0.041724998503923416, -0.013303457759320736, 0.07500018179416656, -0.04191328585147858, -0.0070671197026968, 0.06524687260389328, -0.010082779452204704, 0.053375791758298874, -0.029715629294514656, -0.02296706661581993, 0.02787621133029461, 0.047180965542793274, 0.019234396517276764, 0.06329721957445145, -0.015078325755894184, 0.03663396090269089, 0.01947742886841297, -0.057512905448675156, 0.03613310307264328, -0.06509276479482651, 0.0353979729115963, -0.07592353969812393, 0.02354692481458187, -0.015299174003303051, -0.02334807813167572, -0.026430802419781685, 0.02408212050795555, 0.04691677540540695, -0.005144949536770582, -0.04900078475475311, -0.0395444855093956, 0.047063279896974564, 0.021607263013720512, -0.05452371761202812, 0.037687841802835464, 0.015159593895077705, -0.04604262486100197, 0.014389079995453358, 0.04721265286207199, -0.014027092605829239, 0.0496559739112854, -0.0034636480268090963, -0.07111223042011261, -0.004123877268284559, -0.04866804927587509, -0.04190497845411301, 0.034275006502866745, 0.08692062646150589, 0.044648244976997375, 0.006600694265216589, -0.009163127280771732, 0.04420299455523491, 0.04195427894592285, 0.038560472428798676, -0.08784846216440201, 0.009464030154049397, -0.025701383128762245, 0.015399467200040817, -0.019100937992334366, -0.023909762501716614, -0.026794979348778725, -0.0886513888835907, 0.015946410596370697, -0.030815040692687035, -0.0013228130992501974, 0.02444641850888729, -0.009694715030491352, -0.039638008922338486, -0.01860070787370205, -0.06910499185323715, 0.02915140427649021, 0.001425600959919393, -0.030160197988152504, 0.029721375554800034, 0.04494069144129753, 0.04812610149383545, 0.07794763147830963, 0.0025403043255209923, 0.0031716981902718544, 0.03518030419945717, -0.011787021532654762, 0.049345988780260086, -0.06920986622571945, -0.08298615366220474]]}\n"
     ]
    }
   ],
   "source": [
    "if __name__ == \"__main__\":\n",
    "    query = \"Show me salinity profiles near the equator in March 2023\"\n",
    "    parsed = parse_query(query)\n",
    "    print(\"User Query:\", query)\n",
    "    print(\"Parsed:\", parsed)"
   ]
  },
  {
   "cell_type": "code",
   "execution_count": 37,
   "id": "7807ea13-a528-4afd-8ef1-3df8a0b69dac",
   "metadata": {},
   "outputs": [],
   "source": [
    "def build_sql_query(entities: dict) -> tuple[str, tuple]:\n",
    "    \"\"\"\n",
    "    Build SQL query based on parsed entities.\n",
    "    Returns (query, params).\n",
    "    \"\"\"\n",
    "    base = \"SELECT * FROM argo WHERE 1=1\"\n",
    "    conditions = []\n",
    "    params = []\n",
    "\n",
    "    if entities.get(\"variable\"):\n",
    "        var = entities[\"variable\"]\n",
    "        if var == \"salinity_PSU\":\n",
    "            base = \"SELECT profile_id, latitude, longitude, date, depth, salinity FROM argo WHERE 1=1\"\n",
    "        elif var == \"temperature_C\":\n",
    "            base = \"SELECT profile_id, latitude, longitude, date, depth, temperature FROM argo WHERE 1=1\"\n",
    "\n",
    "    if entities.get(\"time\"):\n",
    "        if len(entities[\"time\"]) == 4:  # YYYY\n",
    "            conditions.append(\"strftime('%Y', date) = ?\")\n",
    "            params.append(entities[\"time\"])\n",
    "        elif len(entities[\"time\"]) == 7:  # YYYY-MM\n",
    "            conditions.append(\"strftime('%Y-%m', date) = ?\")\n",
    "            params.append(entities[\"time\"])\n",
    "\n",
    "    if entities.get(\"lat_range\"):\n",
    "        conditions.append(\"latitude BETWEEN ? AND ?\")\n",
    "        params.extend(entities[\"lat_range\"])\n",
    "\n",
    "    if entities.get(\"lon_range\"):\n",
    "        conditions.append(\"longitude BETWEEN ? AND ?\")\n",
    "        params.extend(entities[\"lon_range\"])\n",
    "\n",
    "    if entities.get(\"depth_range\"):\n",
    "        conditions.append(\"depth BETWEEN ? AND ?\")\n",
    "        params.extend(entities[\"depth_range\"])\n",
    "\n",
    "    if conditions:\n",
    "        base += \" AND \" + \" AND \".join(conditions)\n",
    "\n",
    "    return base, tuple(params)\n"
   ]
  },
  {
   "cell_type": "code",
   "execution_count": 38,
   "id": "06a35d8d-b358-4456-ae70-50aff38eda43",
   "metadata": {},
   "outputs": [],
   "source": [
    "def run_query(entities, db_file=\"argo_data.db\", table_name=\"argo_profiles\"):\n",
    "    import sqlite3\n",
    "    \n",
    "    query = f\"SELECT * FROM {table_name} WHERE 1=1\"\n",
    "    params = []\n",
    "\n",
    "    # --- Apply filters ---\n",
    "    if entities.get(\"variable\"):\n",
    "        query += f\" AND {entities['variable']} IS NOT NULL\"\n",
    "    if entities.get(\"time\"):\n",
    "        query += \" AND time LIKE ?\"\n",
    "        params.append(f\"{entities['time']}%\")\n",
    "    if entities.get(\"lat_range\"):\n",
    "        query += \" AND lat BETWEEN ? AND ?\"\n",
    "        params.extend(entities[\"lat_range\"])\n",
    "    if entities.get(\"lon_range\"):\n",
    "        query += \" AND lon BETWEEN ? AND ?\"\n",
    "        params.extend(entities[\"lon_range\"])\n",
    "    if entities.get(\"depth_range\"):\n",
    "        query += \" AND depth_dbar BETWEEN ? AND ?\"\n",
    "        params.extend(entities[\"depth_range\"])\n",
    "\n",
    "    conn = sqlite3.connect(db_file)\n",
    "    cur = conn.cursor()\n",
    "    cur.execute(query, params)\n",
    "    rows = cur.fetchall()\n",
    "    conn.close()\n",
    "\n",
    "    return rows"
   ]
  },
  {
   "cell_type": "code",
   "execution_count": 39,
   "id": "a71a44b9-6e6f-4df1-b224-0e87180caf24",
   "metadata": {},
   "outputs": [
    {
     "name": "stdout",
     "output_type": "stream",
     "text": [
      "SQL Results:\n",
      "('2023-10-26 14:17:25', 13.6, 68.36666666666666, 0.1, 29.847, 36.616)\n",
      "('2023-10-26 14:17:25', 13.6, 68.36666666666666, 0.8, 29.847, 36.618)\n",
      "('2023-10-26 14:17:25', 13.6, 68.36666666666666, 2.0, 29.853, 36.615)\n",
      "('2023-10-26 14:17:25', 13.6, 68.36666666666666, 2.8, 29.855, 36.614)\n",
      "('2023-10-26 14:17:25', 13.6, 68.36666666666666, 3.7, 29.854, 36.616)\n"
     ]
    }
   ],
   "source": [
    "if __name__ == \"__main__\":\n",
    "    # Example from Step 3\n",
    "    parsed = {\n",
    "        \"intent\": \"fetch_profile\",\n",
    "        \"entities\": {\n",
    "            \"variable\": \"salinity_PSU\",\n",
    "            \"time\": \"2023-10\",\n",
    "            \"lat_range\": (13.6,13.7333),\n",
    "            \"lon_range\": None,\n",
    "            \"depth_range\": None\n",
    "        }\n",
    "    }\n",
    "\n",
    "    results = run_query(parsed[\"entities\"])\n",
    "    print(\"SQL Results:\")\n",
    "    for r in results[:5]:  # show first 5 rows\n",
    "        print(r)"
   ]
  },
  {
   "cell_type": "code",
   "execution_count": 40,
   "id": "56ad16c1-d9cf-428a-8e48-563a9629cf9f",
   "metadata": {},
   "outputs": [
    {
     "ename": "ModuleNotFoundError",
     "evalue": "No module named 'folium'",
     "output_type": "error",
     "traceback": [
      "\u001b[1;31m---------------------------------------------------------------------------\u001b[0m",
      "\u001b[1;31mModuleNotFoundError\u001b[0m                       Traceback (most recent call last)",
      "Cell \u001b[1;32mIn[40], line 2\u001b[0m\n\u001b[0;32m      1\u001b[0m \u001b[38;5;28;01mimport\u001b[39;00m\u001b[38;5;250m \u001b[39m\u001b[38;5;21;01mmatplotlib\u001b[39;00m\u001b[38;5;21;01m.\u001b[39;00m\u001b[38;5;21;01mpyplot\u001b[39;00m\u001b[38;5;250m \u001b[39m\u001b[38;5;28;01mas\u001b[39;00m\u001b[38;5;250m \u001b[39m\u001b[38;5;21;01mplt\u001b[39;00m\n\u001b[1;32m----> 2\u001b[0m \u001b[38;5;28;01mimport\u001b[39;00m\u001b[38;5;250m \u001b[39m\u001b[38;5;21;01mfolium\u001b[39;00m\n\u001b[0;32m      3\u001b[0m \u001b[38;5;28;01mimport\u001b[39;00m\u001b[38;5;250m \u001b[39m\u001b[38;5;21;01mpandas\u001b[39;00m\u001b[38;5;250m \u001b[39m\u001b[38;5;28;01mas\u001b[39;00m\u001b[38;5;250m \u001b[39m\u001b[38;5;21;01mpd\u001b[39;00m\n\u001b[0;32m      4\u001b[0m \u001b[38;5;28;01mimport\u001b[39;00m\u001b[38;5;250m \u001b[39m\u001b[38;5;21;01mplotly\u001b[39;00m\u001b[38;5;21;01m.\u001b[39;00m\u001b[38;5;21;01mexpress\u001b[39;00m\u001b[38;5;250m \u001b[39m\u001b[38;5;28;01mas\u001b[39;00m\u001b[38;5;250m \u001b[39m\u001b[38;5;21;01mpx\u001b[39;00m\n",
      "\u001b[1;31mModuleNotFoundError\u001b[0m: No module named 'folium'"
     ]
    }
   ],
   "source": [
    "import matplotlib.pyplot as plt\n",
    "import folium\n",
    "import pandas as pd\n",
    "import plotly.express as px"
   ]
  },
  {
   "cell_type": "code",
   "execution_count": null,
   "id": "f22a90ea-01ec-4e31-bfa7-7756bf1e14b9",
   "metadata": {},
   "outputs": [],
   "source": []
  }
 ],
 "metadata": {
  "kernelspec": {
   "display_name": "Python 3 (ipykernel)",
   "language": "python",
   "name": "python3"
  },
  "language_info": {
   "codemirror_mode": {
    "name": "ipython",
    "version": 3
   },
   "file_extension": ".py",
   "mimetype": "text/x-python",
   "name": "python",
   "nbconvert_exporter": "python",
   "pygments_lexer": "ipython3",
   "version": "3.10.0"
  }
 },
 "nbformat": 4,
 "nbformat_minor": 5
}
